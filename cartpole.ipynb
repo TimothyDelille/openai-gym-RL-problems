{
 "cells": [
  {
   "cell_type": "markdown",
   "metadata": {},
   "source": [
    "# Cart Pole\n",
    "[link to gymnasium doc](https://gymnasium.farama.org/environments/classic_control/cart_pole/)\n",
    "\n",
    "Action space:\n",
    "- 0 (move cart to left)\n",
    "- 1 (move cart to right)\n",
    "\n",
    "Observation space:\n",
    "- cart position (between -4.8 and 4.8)\n",
    "- cart velocity (between -inf and inf)\n",
    "- pole angle in radians (between -0.418 and 0.418 rad)\n",
    "- pole angular velocity (between -inf and inf)\n",
    "\n",
    "Reward: 1 for every step taken\n",
    "\n",
    "starting state & termination:\n",
    "- ALL observations are assigned a uniformly random value in (-0.05, 0.05)\n",
    "- the episode terminates if the cart leaves the (-2.4, 2.4) range\n",
    "- the episode terminates if the pole angle is not in the range (-.2095, .2095) (or ±12°)\n",
    "- episode terminates if its length is greater than 500"
   ]
  },
  {
   "cell_type": "code",
   "execution_count": 124,
   "metadata": {},
   "outputs": [],
   "source": [
    "import cv2\n",
    "import gymnasium as gym\n",
    "import matplotlib.pyplot as plt\n",
    "from tqdm.notebook import tqdm\n",
    "import imageio\n",
    "import numpy as np\n",
    "\n",
    "import random\n",
    "from collections import namedtuple, defaultdict\n",
    "\n",
    "# monte carlo samples episodes then learns Q table using simple monte carlo estimates.\n",
    "def monte_carlo(n_episodes=100):\n",
    "    env = gym.make('CartPole-v1', render_mode=\"rgb_array\")\n",
    "    n_actions = env.action_space.n\n",
    "    bin_size = 30\n",
    "    bins = get_bins(bin_size=bin_size)\n",
    "    \n",
    "    # Q lookup table: q(state, action).\n",
    "    Q = np.random.uniform(size=[bin_size]*len(bins) + [n_actions])\n",
    "    # returns table: returns(state, action)\n",
    "    R = np.zeros_like(Q)\n",
    "    # Counters table: number of times state, action pair was visited for the first time\n",
    "    N = np.zeros_like(Q) \n",
    "\n",
    "    # rewards record used to monitor learning progress.\n",
    "    rewards = []\n",
    "    for i in tqdm(range(n_episodes)):\n",
    "        policy_wrapper = lambda obs: policy(epsilon=1/i+1, Q=Q, bins=bins, observation=obs)\n",
    "        episode = sample_episode(policy_wrapper, env, render=False)\n",
    "        rewards.append(sum(e.reward for e in episode))\n",
    "        # visited table keeps track of visited state, action pairs. visited[state, action] = bool\n",
    "        visited = defaultdict(bool)\n",
    "        r = 0\n",
    "        for e in episode[::-1]:  # returns are summed from T to 1.\n",
    "            p, pv, a, av = digitize(e.observation, bins)\n",
    "\n",
    "            state = (p, pv, a, av, e.action)\n",
    "            r += e.reward\n",
    "            if visited[state]:\n",
    "                continue\n",
    "\n",
    "            visited[state] = True\n",
    "            R[p, pv, a, av, e.action] += r\n",
    "            N[p, pv, a, av, e.action] += 1\n",
    "            Q[p, pv, a, av, e.action] = R[p, pv, a, av, e.action]/N[p, pv, a, av, e.action]\n",
    "        \n",
    "    env.close()\n",
    "    return Q, rewards\n",
    "\n",
    "# Record namedtuple contains action, observation, reward and frame for a single time step.\n",
    "# An episode is a collection of records.\n",
    "Record = namedtuple(\"Record\", \"action observation reward frame\")\n",
    "\n",
    "# sample_episode samples an episode using the policy. Doesn't do any update during the episode.\n",
    "# render (bool) determines whether to render frames.\n",
    "def sample_episode(policy, env, render=False):\n",
    "    episode = []\n",
    "    terminated = False\n",
    "    truncated = False\n",
    "    step = 0\n",
    "    obs, info = env.reset()\n",
    "    while not (terminated or truncated):\n",
    "        step += 1\n",
    "        frame = None\n",
    "        if render:\n",
    "            frame = env.render()\n",
    "            cv2.putText(\n",
    "                img=frame, \n",
    "                text=f'steps={step}/500', \n",
    "                org=(10, 50), \n",
    "                fontFace=cv2.FONT_HERSHEY_SIMPLEX, \n",
    "                fontScale=1, \n",
    "                color=(0, 0, 255), \n",
    "                thickness=2, \n",
    "                lineType=cv2.LINE_AA\n",
    "            )\n",
    "        action = policy(obs)\n",
    "        new_obs, reward, terminated, truncated, info = env.step(action)\n",
    "        episode.append(\n",
    "            Record(\n",
    "                action=action, \n",
    "                observation=obs, \n",
    "                reward=reward,\n",
    "                frame=frame,\n",
    "            ),\n",
    "        )\n",
    "        obs = new_obs\n",
    "    return episode\n",
    "\n",
    "# policy is epsilon-greedy with respect to Q.\n",
    "def policy(epsilon, Q, bins, observation):\n",
    "    if random.uniform(0, 1) < epsilon:\n",
    "        return random.randint(0, Q.shape[-1] - 1)  # right bound is included\n",
    "    \n",
    "    p, pv, a, av = digitize(observation, bins)\n",
    "    return np.argmax(Q[p, pv, a, av, :])\n",
    "\n",
    "# get_bins returns bins used to quantize the observations.\n",
    "def get_bins(bin_size=30):\n",
    "    bins = [\n",
    "        np.linspace(-4.8,4.8,bin_size),\n",
    "        np.linspace(-4,4,bin_size),\n",
    "        np.linspace(-0.418,0.418,bin_size),\n",
    "        np.linspace(-4,4,bin_size)\n",
    "    ]\n",
    "    return bins\n",
    "\n",
    "# digitize quantizes the observations into bins. Returns bin indexes (0-based).\n",
    "def digitize(obs, bins):\n",
    "    res = []\n",
    "    for o, b in zip(obs, bins):\n",
    "        res.append(\n",
    "            np.digitize(o, b) - 1\n",
    "        )\n",
    "    return res\n"
   ]
  },
  {
   "cell_type": "code",
   "execution_count": 55,
   "metadata": {},
   "outputs": [
    {
     "data": {
      "application/json": {
       "ascii": false,
       "bar_format": null,
       "colour": null,
       "elapsed": 0.0069179534912109375,
       "initial": 0,
       "n": 0,
       "ncols": null,
       "nrows": null,
       "postfix": null,
       "prefix": "",
       "rate": null,
       "total": 50000,
       "unit": "it",
       "unit_divisor": 1000,
       "unit_scale": false
      },
      "application/vnd.jupyter.widget-view+json": {
       "model_id": "6576fc34511045e583144bc6c41e499a",
       "version_major": 2,
       "version_minor": 0
      },
      "text/plain": [
       "  0%|          | 0/50000 [00:00<?, ?it/s]"
      ]
     },
     "metadata": {},
     "output_type": "display_data"
    },
    {
     "data": {
      "text/plain": [
       "[<matplotlib.lines.Line2D at 0x1255665e0>]"
      ]
     },
     "execution_count": 55,
     "metadata": {},
     "output_type": "execute_result"
    },
    {
     "data": {
      "image/png": "[encoded data removed]",
      "text/plain": [
       "<Figure size 432x288 with 1 Axes>"
      ]
     },
     "metadata": {
      "needs_background": "light"
     },
     "output_type": "display_data"
    }
   ],
   "source": [
    "import matplotlib.pyplot as plt\n",
    "Q, r = monte_carlo(n_episodes=50000)\n",
    "plt.plot(np.arange(len(r)), r)"
   ]
  },
  {
   "cell_type": "code",
   "execution_count": 118,
   "metadata": {},
   "outputs": [
    {
     "data": {
      "application/json": {
       "ascii": false,
       "bar_format": null,
       "colour": null,
       "elapsed": 0.007809877395629883,
       "initial": 0,
       "n": 0,
       "ncols": null,
       "nrows": null,
       "postfix": null,
       "prefix": "",
       "rate": null,
       "total": 16000,
       "unit": "it",
       "unit_divisor": 1000,
       "unit_scale": false
      },
      "application/vnd.jupyter.widget-view+json": {
       "model_id": "c2f307c8691042c7b36e10dca6c1f3b1",
       "version_major": 2,
       "version_minor": 0
      },
      "text/plain": [
       "  0%|          | 0/16000 [00:00<?, ?it/s]"
      ]
     },
     "metadata": {},
     "output_type": "display_data"
    },
    {
     "data": {
      "text/plain": [
       "[<matplotlib.lines.Line2D at 0x126003160>]"
      ]
     },
     "execution_count": 118,
     "metadata": {},
     "output_type": "execute_result"
    },
    {
     "data": {
      "image/png": "[encoded data removed]",
      "text/plain": [
       "<Figure size 432x288 with 1 Axes>"
      ]
     },
     "metadata": {
      "needs_background": "light"
     },
     "output_type": "display_data"
    }
   ],
   "source": [
    "# Q-learning\n",
    "env = gym.make('CartPole-v1', render_mode=\"rgb_array\")\n",
    "\n",
    "# initialize Q table\n",
    "n_actions = env.action_space.n\n",
    "bin_size = 30\n",
    "bins = get_bins(bin_size=bin_size)\n",
    "Q = np.random.uniform(size=[bin_size]*len(bins) + [n_actions]) \n",
    "# Q: no need to set terminal states to 0?\n",
    "\n",
    "n_episodes = 16000\n",
    "# returns keeps track of returns for each episode to monitor learning progress.\n",
    "returns = []\n",
    "# t used to set learning rate alpha = 1/t\n",
    "t = 1\n",
    "gamma = 0.995\n",
    "for i in tqdm(range(n_episodes)):\n",
    "    # epsilon = 1/(i+1)?\n",
    "    policy_fn = lambda obs: policy(epsilon=0.2, Q=Q, bins=bins, observation=obs)\n",
    "\n",
    "    obs, info = env.reset()\n",
    "\n",
    "    terminated = False\n",
    "    truncated = False\n",
    "    curr_returns = 0\n",
    "    while not (terminated or truncated):\n",
    "        alpha = 0.1\n",
    "        action = policy_fn(obs)\n",
    "        new_obs, reward, terminated, truncated, info = env.step(action)\n",
    "        if not (terminated or truncated):\n",
    "            p, pv, a, av = digitize(obs, bins)\n",
    "            pn, pvn, an, avn = digitize(new_obs, bins)\n",
    "            q1 = Q[p, pv, a, av, action]\n",
    "            q2 = Q[pn, pvn, an, avn, :].max()\n",
    "            #new_action = policy_fn(new_obs)\n",
    "            #q2 = Q[pn, pvn, an, avn, new_action]\n",
    "            Q[p, pv, a, av, action] = q1 * (1 - alpha) + alpha * (reward + gamma * q2) \n",
    "            curr_returns += reward\n",
    "            t += 1\n",
    "        obs = new_obs\n",
    "    returns.append(curr_returns)\n",
    "\n",
    "env.close() \n",
    "\n",
    "plt.plot(np.arange(len(returns)), returns)\n",
    "    "
   ]
  },
  {
   "cell_type": "code",
   "execution_count": 125,
   "metadata": {},
   "outputs": [],
   "source": [
    "# run episode and save to gif\n",
    "env = gym.make('CartPole-v1', render_mode=\"rgb_array\")\n",
    "bins = get_bins()\n",
    "policy_wrapper = lambda obs: policy(epsilon=0., Q=Q, bins=bins, observation=obs)\n",
    "episode = sample_episode(policy_wrapper, 1, env, render=True)\n",
    "frames = [e.frame for e in episode]\n",
    "fps = 30\n",
    "imageio.mimsave('cartpole.gif', frames, duration=len(episode)/fps)\n",
    "env.close()"
   ]
  }
 ],
 "metadata": {
  "interpreter": {
   "hash": "3c1995da8ce620629444a6a3eb84b08e3361d7aae2328f1a9b5450ff59e28124"
  },
  "kernelspec": {
   "display_name": "Python 3.9.9 64-bit ('env': venv)",
   "language": "python",
   "name": "python3"
  },
  "language_info": {
   "codemirror_mode": {
    "name": "ipython",
    "version": 3
   },
   "file_extension": ".py",
   "mimetype": "text/x-python",
   "name": "python",
   "nbconvert_exporter": "python",
   "pygments_lexer": "ipython3",
   "version": "3.9.17"
  },
  "orig_nbformat": 4
 },
 "nbformat": 4,
 "nbformat_minor": 2
}
